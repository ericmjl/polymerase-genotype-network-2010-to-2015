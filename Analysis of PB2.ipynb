{
 "cells": [
  {
   "cell_type": "code",
   "execution_count": 1,
   "metadata": {
    "collapsed": false
   },
   "outputs": [],
   "source": [
    "from genotype_network.protein import ProteinGN\n",
    "from collections import Counter\n",
    "import networkx as nx"
   ]
  },
  {
   "cell_type": "code",
   "execution_count": 2,
   "metadata": {
    "collapsed": false
   },
   "outputs": [],
   "source": [
    "gn = ProteinGN()\n",
    "gn.read_genotype_network('PB2_2010-2015.pkl')"
   ]
  },
  {
   "cell_type": "code",
   "execution_count": 3,
   "metadata": {
    "collapsed": false
   },
   "outputs": [
    {
     "name": "stdout",
     "output_type": "stream",
     "text": [
      "1950\n",
      "3294\n"
     ]
    }
   ],
   "source": [
    "# Basic statistics about the network.\n",
    "print(len(gn.edges))\n",
    "print(len(gn.nodes))"
   ]
  },
  {
   "cell_type": "code",
   "execution_count": 4,
   "metadata": {
    "collapsed": false
   },
   "outputs": [
    {
     "data": {
      "text/plain": [
       "[(759, 3252)]"
      ]
     },
     "execution_count": 4,
     "metadata": {},
     "output_type": "execute_result"
    }
   ],
   "source": [
    "# Print the length of each of the nodes.\n",
    "lengths = Counter()\n",
    "for n, d in gn.nodes:\n",
    "    lengths[len(n)] += 1\n",
    "\n",
    "lengths.most_common(1)"
   ]
  },
  {
   "cell_type": "code",
   "execution_count": 5,
   "metadata": {
    "collapsed": false
   },
   "outputs": [
    {
     "data": {
      "text/plain": [
       "3252"
      ]
     },
     "execution_count": 5,
     "metadata": {},
     "output_type": "execute_result"
    }
   ],
   "source": [
    "# Remove nodes not of the most common length.\n",
    "for n, d in gn.nodes:\n",
    "    if len(n) != lengths.most_common(1)[0][0]:\n",
    "        gn.G.remove_node(n)\n",
    "        \n",
    "len(gn.nodes)"
   ]
  },
  {
   "cell_type": "code",
   "execution_count": 6,
   "metadata": {
    "collapsed": false
   },
   "outputs": [
    {
     "data": {
      "text/plain": [
       "399"
      ]
     },
     "execution_count": 6,
     "metadata": {},
     "output_type": "execute_result"
    }
   ],
   "source": [
    "# Find all nodes with a given polymorphism at a given position.\n",
    "\n",
    "def nodes_with_polymorphism(pos, letter):\n",
    "    \"\"\"\n",
    "    Returns the nodes that have a given polymorphism letter at a specified position.\n",
    "    \"\"\"\n",
    "    nodes = set()\n",
    "    for n, d in gn.nodes:\n",
    "        if n[pos-1] == letter:\n",
    "            nodes.add(n)\n",
    "        \n",
    "    return nodes\n",
    "\n",
    "polymorph_nodes = nodes_with_polymorphism(627, 'K')\n",
    "len(polymorph_nodes)"
   ]
  },
  {
   "cell_type": "code",
   "execution_count": 7,
   "metadata": {
    "collapsed": false
   },
   "outputs": [],
   "source": [
    "sg = gn.G.subgraph(polymorph_nodes)"
   ]
  },
  {
   "cell_type": "code",
   "execution_count": 8,
   "metadata": {
    "collapsed": false,
    "scrolled": true
   },
   "outputs": [
    {
     "data": {
      "text/plain": [
       "11"
      ]
     },
     "execution_count": 8,
     "metadata": {},
     "output_type": "execute_result"
    }
   ],
   "source": [
    "def polymorphism_nodes_neighbors(pos, letter, matched=False):\n",
    "    \"\"\"\n",
    "    Finds the nodes that have a given polymorphism.\n",
    "    \n",
    "    Then, it returns the neighbors of the polymorphism that do not have that\n",
    "    given polymorphism at that position.\n",
    "    \"\"\"\n",
    "    from collections import defaultdict\n",
    "    nodes = nodes_with_polymorphism(pos, letter)\n",
    "    \n",
    "    if matched:\n",
    "        neighbors = defaultdict(list)\n",
    "    else:\n",
    "        neighbors = set()\n",
    "    for n in nodes:\n",
    "        for n2 in gn.G.neighbors(n):\n",
    "            if n2[pos-1] != letter:\n",
    "                if matched:\n",
    "                    neighbors[n].append(n2)\n",
    "                else:\n",
    "                    neighbors.add(n2)\n",
    "            \n",
    "    return neighbors\n",
    "\n",
    "polymorph_neighbors = polymorphism_nodes_neighbors(627, 'K', matched=True)\n",
    "len(polymorph_neighbors)"
   ]
  },
  {
   "cell_type": "code",
   "execution_count": 9,
   "metadata": {
    "collapsed": true
   },
   "outputs": [],
   "source": [
    "\"\"\"\n",
    "The polymorphisms of interest are recorded as a dictionary below.\n",
    "\"\"\"\n",
    "\n",
    "polymorphs_of_interest = {63:['I'],\n",
    "                          158:['G'],\n",
    "                          199:['S'],\n",
    "                          256:['G'],\n",
    "                          271:['A'],\n",
    "                          360:['Y'],\n",
    "                          471:['M'],\n",
    "                          482:['R'],\n",
    "                          588:['I'],\n",
    "                          590:['S'],\n",
    "                          591:['K', 'R'],\n",
    "                          627:['K'],\n",
    "                          636:['F'],\n",
    "                          661:['T'],\n",
    "                          667:['I'],\n",
    "                          701:['N'],\n",
    "                          702:['R'],\n",
    "                            }"
   ]
  },
  {
   "cell_type": "code",
   "execution_count": 10,
   "metadata": {
    "collapsed": false
   },
   "outputs": [
    {
     "name": "stdout",
     "output_type": "stream",
     "text": [
      "256 G 2 0\n",
      "482 R 10 0\n",
      "667 I 682 9\n",
      "199 S 337 0\n",
      "360 Y 3236 4\n",
      "588 I 386 19\n",
      "702 R 385 4\n",
      "590 S 1490 14\n",
      "271 A 1441 0\n",
      "627 K 399 11\n",
      "661 T 391 9\n",
      "471 M 20 6\n",
      "591 K 17 2\n",
      "591 R 1108 2\n",
      "636 F 0 0\n",
      "701 N 113 5\n",
      "158 G 2 1\n",
      "63 I 3011 5\n"
     ]
    },
    {
     "data": {
      "text/plain": [
       "3252"
      ]
     },
     "execution_count": 10,
     "metadata": {},
     "output_type": "execute_result"
    }
   ],
   "source": [
    "# Count the total number of nodes + neighbors that will have to be made.\n",
    "\n",
    "all_nodes = set()\n",
    "for pos, letters in polymorphs_of_interest.items():\n",
    "    for letter in letters:\n",
    "        nodes = nodes_with_polymorphism(pos, letter)\n",
    "        all_nodes = all_nodes.union(nodes)\n",
    "        \n",
    "        neighbors = polymorphism_nodes_neighbors(pos, letter)\n",
    "        all_nodes = all_nodes.union(neighbors)\n",
    "        \n",
    "        print(pos, letter, len(nodes), len(neighbors))\n",
    "len(all_nodes)"
   ]
  },
  {
   "cell_type": "code",
   "execution_count": 11,
   "metadata": {
    "collapsed": false,
    "scrolled": true
   },
   "outputs": [
    {
     "name": "stdout",
     "output_type": "stream",
     "text": [
      "256 G 0\n",
      "482 R 0\n",
      "667 I 18\n",
      "199 S 0\n",
      "360 Y 8\n",
      "588 I 28\n",
      "702 R 8\n",
      "590 S 28\n",
      "271 A 0\n",
      "627 K 22\n",
      "661 T 18\n",
      "471 M 12\n",
      "591 K 4\n",
      "591 R 4\n",
      "636 F 0\n",
      "701 N 8\n",
      "158 G 2\n",
      "63 I 10\n",
      "81\n"
     ]
    }
   ],
   "source": [
    "# Count the total number of matched ±polymorphism nodes that will have to be made.\n",
    "\n",
    "allnodes = set()\n",
    "for pos, letters in polymorphs_of_interest.items():\n",
    "    for letter in letters:\n",
    "        neighbors = polymorphism_nodes_neighbors(pos, letter, matched=True)\n",
    "        allnodes = allnodes.union(set([i for i in neighbors.keys()]))\n",
    "        for neighbor_list in neighbors.values():\n",
    "            for neighbor in neighbors:\n",
    "                allnodes.union(neighbor)\n",
    "        print(pos, letter, len(neighbors)*2)\n",
    "#         allnodes.union(set([for i in neighbors.values()]))\n",
    "        \n",
    "print(len(allnodes))"
   ]
  },
  {
   "cell_type": "code",
   "execution_count": 12,
   "metadata": {
    "collapsed": false
   },
   "outputs": [
    {
     "data": {
      "text/plain": [
       "1479"
      ]
     },
     "execution_count": 12,
     "metadata": {},
     "output_type": "execute_result"
    }
   ],
   "source": [
    "subgraphs = [g for g in nx.connected_component_subgraphs(gn.G)]\n",
    "len(subgraphs)"
   ]
  },
  {
   "cell_type": "code",
   "execution_count": 13,
   "metadata": {
    "collapsed": false
   },
   "outputs": [
    {
     "data": {
      "text/plain": [
       "Counter({1: 1304,\n",
       "         2: 96,\n",
       "         3: 24,\n",
       "         4: 15,\n",
       "         5: 8,\n",
       "         6: 7,\n",
       "         7: 5,\n",
       "         8: 2,\n",
       "         9: 3,\n",
       "         11: 1,\n",
       "         12: 1,\n",
       "         13: 1,\n",
       "         18: 2,\n",
       "         20: 1,\n",
       "         40: 1,\n",
       "         50: 1,\n",
       "         58: 1,\n",
       "         72: 1,\n",
       "         76: 1,\n",
       "         82: 1,\n",
       "         208: 1,\n",
       "         365: 1,\n",
       "         421: 1})"
      ]
     },
     "execution_count": 13,
     "metadata": {},
     "output_type": "execute_result"
    }
   ],
   "source": [
    "subgraph_sizes = [len(g) for g in subgraphs]\n",
    "Counter(subgraph_sizes)"
   ]
  },
  {
   "cell_type": "code",
   "execution_count": 14,
   "metadata": {
    "collapsed": false
   },
   "outputs": [
    {
     "data": {
      "text/plain": [
       "1946"
      ]
     },
     "execution_count": 14,
     "metadata": {},
     "output_type": "execute_result"
    }
   ],
   "source": [
    "len(gn.edges)"
   ]
  },
  {
   "cell_type": "code",
   "execution_count": null,
   "metadata": {
    "collapsed": true
   },
   "outputs": [],
   "source": []
  }
 ],
 "metadata": {
  "kernelspec": {
   "display_name": "Python 3",
   "language": "python",
   "name": "python3"
  },
  "language_info": {
   "codemirror_mode": {
    "name": "ipython",
    "version": 3
   },
   "file_extension": ".py",
   "mimetype": "text/x-python",
   "name": "python",
   "nbconvert_exporter": "python",
   "pygments_lexer": "ipython3",
   "version": "3.4.3"
  }
 },
 "nbformat": 4,
 "nbformat_minor": 0
}
