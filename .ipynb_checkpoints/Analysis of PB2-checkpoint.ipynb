{
 "cells": [
  {
   "cell_type": "code",
   "execution_count": 49,
   "metadata": {
    "collapsed": false
   },
   "outputs": [],
   "source": [
    "from genotype_network.protein import ProteinGN\n",
    "from collections import Counter"
   ]
  },
  {
   "cell_type": "code",
   "execution_count": 50,
   "metadata": {
    "collapsed": false
   },
   "outputs": [],
   "source": [
    "gn = ProteinGN()\n",
    "gn.read_genotype_network('PB2_2010-2015.pkl')"
   ]
  },
  {
   "cell_type": "code",
   "execution_count": 51,
   "metadata": {
    "collapsed": false
   },
   "outputs": [
    {
     "name": "stdout",
     "output_type": "stream",
     "text": [
      "1950\n",
      "3294\n"
     ]
    }
   ],
   "source": [
    "# Basic statistics about the network.\n",
    "print(len(gn.edges))\n",
    "print(len(gn.nodes))"
   ]
  },
  {
   "cell_type": "code",
   "execution_count": 52,
   "metadata": {
    "collapsed": false
   },
   "outputs": [
    {
     "data": {
      "text/plain": [
       "[(759, 3252)]"
      ]
     },
     "execution_count": 52,
     "metadata": {},
     "output_type": "execute_result"
    }
   ],
   "source": [
    "# Print the length of each of the nodes.\n",
    "lengths = Counter()\n",
    "for n, d in gn.nodes:\n",
    "    lengths[len(n)] += 1\n",
    "\n",
    "lengths.most_common(1)"
   ]
  },
  {
   "cell_type": "code",
   "execution_count": 53,
   "metadata": {
    "collapsed": false
   },
   "outputs": [
    {
     "data": {
      "text/plain": [
       "3252"
      ]
     },
     "execution_count": 53,
     "metadata": {},
     "output_type": "execute_result"
    }
   ],
   "source": [
    "# Remove nodes not of the most common length.\n",
    "for n, d in gn.nodes:\n",
    "    if len(n) != lengths.most_common(1)[0][0]:\n",
    "        gn.G.remove_node(n)\n",
    "        \n",
    "len(gn.nodes)"
   ]
  },
  {
   "cell_type": "code",
   "execution_count": 71,
   "metadata": {
    "collapsed": false
   },
   "outputs": [
    {
     "data": {
      "text/plain": [
       "399"
      ]
     },
     "execution_count": 71,
     "metadata": {},
     "output_type": "execute_result"
    }
   ],
   "source": [
    "# Find all nodes with a given polymorphism at a given position.\n",
    "\n",
    "def nodes_with_polymorphism(pos, letter):\n",
    "    \"\"\"\n",
    "    Returns the nodes that have a given polymorphism letter at a specified position.\n",
    "    \"\"\"\n",
    "    nodes = set()\n",
    "    for n, d in gn.nodes:\n",
    "        if n[pos-1] == letter:\n",
    "            nodes.add(n)\n",
    "        \n",
    "    return nodes\n",
    "\n",
    "polymorph_nodes = nodes_with_polymorphism(627, 'K')\n",
    "len(polymorph_nodes)"
   ]
  },
  {
   "cell_type": "code",
   "execution_count": 72,
   "metadata": {
    "collapsed": false,
    "scrolled": true
   },
   "outputs": [
    {
     "data": {
      "text/plain": [
       "11"
      ]
     },
     "execution_count": 72,
     "metadata": {},
     "output_type": "execute_result"
    }
   ],
   "source": [
    "def polymorphism_nodes_neighbors(pos, letter):\n",
    "    \"\"\"\n",
    "    Finds the nodes that have a given polymorphism.\n",
    "    \n",
    "    Then, it returns the neighbors of the polymorphism that do not have that\n",
    "    given polymorphism at that position.\n",
    "    \"\"\"\n",
    "    \n",
    "    nodes = find_nodes_with_polymorphism(pos, letter)\n",
    "    \n",
    "    neighbors = set()\n",
    "    for n in nodes:\n",
    "        for n2 in gn.G.neighbors(n):\n",
    "            if n2[pos-1] != letter:\n",
    "                neighbors.add(n2)\n",
    "            \n",
    "    return neighbors\n",
    "\n",
    "polymorph_neighbors = polymorphism_nodes_neighbors(627, 'K')\n",
    "len(polymorph_neighbors)"
   ]
  },
  {
   "cell_type": "code",
   "execution_count": 73,
   "metadata": {
    "collapsed": true
   },
   "outputs": [],
   "source": [
    "\"\"\"\n",
    "The polymorphisms of interest are recorded as a dictionary below.\n",
    "\"\"\"\n",
    "\n",
    "polymorphs_of_interest = {63:['I'],\n",
    "                          158:['G'],\n",
    "                          199:['S'],\n",
    "                          256:['G'],\n",
    "                          271:['A'],\n",
    "                          360:['Y'],\n",
    "                          471:['M'],\n",
    "                          482:['R'],\n",
    "                          588:['I'],\n",
    "                          590:['S'],\n",
    "                          591:['K', 'R'],\n",
    "                          627:['K'],\n",
    "                          636:['F'],\n",
    "                          661:['T'],\n",
    "                          667:['I'],\n",
    "                          701:['N'],\n",
    "                          702:['R']}"
   ]
  },
  {
   "cell_type": "code",
   "execution_count": 75,
   "metadata": {
    "collapsed": false
   },
   "outputs": [
    {
     "data": {
      "text/plain": [
       "3252"
      ]
     },
     "execution_count": 75,
     "metadata": {},
     "output_type": "execute_result"
    }
   ],
   "source": [
    "# Count the total number of nodes + neighbors that will have to be made.\n",
    "\n",
    "all_nodes = set()\n",
    "for pos, letters in polymorphs_of_interest.items():\n",
    "    for letter in letters:\n",
    "        all_nodes = all_nodes.union(nodes_with_polymorphism(pos, letter))\n",
    "        all_nodes = all_nodes.union(polymorphism_nodes_neighbors(pos, letter))\n",
    "        \n",
    "len(all_nodes)"
   ]
  },
  {
   "cell_type": "code",
   "execution_count": null,
   "metadata": {
    "collapsed": true
   },
   "outputs": [],
   "source": []
  }
 ],
 "metadata": {
  "kernelspec": {
   "display_name": "Python 3",
   "language": "python",
   "name": "python3"
  },
  "language_info": {
   "codemirror_mode": {
    "name": "ipython",
    "version": 3
   },
   "file_extension": ".py",
   "mimetype": "text/x-python",
   "name": "python",
   "nbconvert_exporter": "python",
   "pygments_lexer": "ipython3",
   "version": "3.4.3"
  }
 },
 "nbformat": 4,
 "nbformat_minor": 0
}
